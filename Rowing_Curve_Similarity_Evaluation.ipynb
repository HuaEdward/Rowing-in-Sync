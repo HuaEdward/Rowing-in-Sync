{
  "cells": [
    {
      "cell_type": "code",
      "execution_count": null,
      "metadata": {
        "colab": {
          "base_uri": "https://localhost:8080/"
        },
        "id": "sq-EU926FgqI",
        "outputId": "d852dee7-ea53-4964-91f8-18d91328a181"
      },
      "outputs": [
        {
          "output_type": "stream",
          "name": "stdout",
          "text": [
            "Mounted at /content/drive\n"
          ]
        }
      ],
      "source": [
        "from google.colab import drive\n",
        "from google.colab import files\n",
        "drive.mount('/content/drive', force_remount = True)"
      ]
    },
    {
      "cell_type": "code",
      "execution_count": null,
      "metadata": {
        "id": "yXrZWs0BFhX3"
      },
      "outputs": [],
      "source": [
        "import os\n",
        "os.chdir('./drive/MyDrive/RowingDATA/')"
      ]
    },
    {
      "cell_type": "code",
      "execution_count": null,
      "metadata": {
        "colab": {
          "base_uri": "https://localhost:8080/"
        },
        "id": "Iw02UPDUFoER",
        "outputId": "53a79940-1d02-4454-a953-d54e454db3ba"
      },
      "outputs": [
        {
          "output_type": "execute_result",
          "data": {
            "text/plain": [
              "['Video1A.mp4',\n",
              " 'Video1H.mp4',\n",
              " 'Video2A.mp4',\n",
              " 'Video2H.mp4',\n",
              " '.DS_Store',\n",
              " 'rowing_csvs_out',\n",
              " 'rowing_images_out',\n",
              " 'Video1H-output.mp4',\n",
              " 'Video1A-output.mp4',\n",
              " 'rowing_dataset',\n",
              " 'Video3A.mp4',\n",
              " 'Video3F.mp4',\n",
              " 'Video4A.mp4',\n",
              " 'Video4F.mp4',\n",
              " 'Video4A-output.mp4',\n",
              " 'Video4F-output.mp4',\n",
              " 'Video4F_values.csv',\n",
              " 'Video3F_values.csv',\n",
              " 'Video3F-output.mp4',\n",
              " 'rowing_csvs_out_basic.csv',\n",
              " 'Video3A-output.mp4',\n",
              " 'Video3A_values.csv',\n",
              " 'Video4A_values.gsheet',\n",
              " 'Test3A.csv',\n",
              " 'Test3F.csv',\n",
              " 'Video4A_values.csv']"
            ]
          },
          "metadata": {},
          "execution_count": 3
        }
      ],
      "source": [
        "os.listdir('./')"
      ]
    },
    {
      "cell_type": "code",
      "execution_count": null,
      "metadata": {
        "id": "g7-sLzpXFLbT"
      },
      "outputs": [],
      "source": [
        "import numpy as np\n",
        "import pandas as pd\n",
        "from scipy.stats import pearsonr"
      ]
    },
    {
      "cell_type": "code",
      "source": [
        "def compute_similarity_score(weights, mse_normalized, pearson_corr, area_normalized):\n",
        "    return (\n",
        "        weights[0] * (1 - mse_normalized) +  # MSE contribution\n",
        "        weights[1] * pearson_corr +          # Pearson correlation contribution\n",
        "        weights[2] * (1 - area_normalized)   # Area Difference contribution\n",
        "    )"
      ],
      "metadata": {
        "id": "5N8wHfVg2JHf"
      },
      "execution_count": null,
      "outputs": []
    },
    {
      "cell_type": "code",
      "source": [
        "curve_files = ['Test3A.csv', 'Test3F.csv', 'Video4A_values.csv', 'Test3A.csv']  # Add all file paths\n",
        "curves = [pd.read_csv(file).iloc[:, 1].values for file in curve_files]  # Extract y-values\n",
        "x_points = np.linspace(0, len(curves[0]) - 1, len(curves[0]))  # Uniform x-axis"
      ],
      "metadata": {
        "id": "HbpuPOxj2J2M"
      },
      "execution_count": null,
      "outputs": []
    },
    {
      "cell_type": "code",
      "source": [
        "# Define weights\n",
        "weights = [0.2, 0.5, 0.3]  # Adjust as needed\n",
        "\n",
        "# Compute pairwise similarity scores\n",
        "n_curves = len(curves)\n",
        "similarity_matrix = np.zeros((n_curves, n_curves))\n",
        "\n",
        "for i in range(n_curves):\n",
        "    for j in range(i + 1, n_curves):\n",
        "        # Interpolate curves to the same x-points\n",
        "        y1 = curves[i]\n",
        "        y2 = np.interp(x_points, np.linspace(0, len(curves[j]) - 1, len(curves[j])), curves[j])\n",
        "\n",
        "        # Compute metrics\n",
        "        mse = np.mean((y1 - y2) ** 2)\n",
        "        mse_max = max(y1.max() ** 2, y2.max() ** 2)\n",
        "        mse_normalized = mse / mse_max\n",
        "\n",
        "        pearson_corr, _ = pearsonr(y1, y2)\n",
        "\n",
        "        area1 = np.trapz(y1, x_points)\n",
        "        area2 = np.trapz(y2, x_points)\n",
        "        area_difference = abs(area1 - area2)\n",
        "        area_max = max(area1, area2)\n",
        "        area_normalized = area_difference / area_max\n",
        "\n",
        "        # Compute similarity score\n",
        "        score = compute_similarity_score(weights, mse_normalized, pearson_corr, area_normalized)\n",
        "\n",
        "        # Store in matrix (symmetric)\n",
        "        similarity_matrix[i, j] = score\n",
        "        similarity_matrix[j, i] = score\n",
        "\n",
        "for i in range(n_curves):\n",
        "    similarity_matrix[i, i] = 1  # Self-similarity is 1"
      ],
      "metadata": {
        "id": "YDn_jijm2Pnt"
      },
      "execution_count": null,
      "outputs": []
    },
    {
      "cell_type": "code",
      "source": [
        "k = 2  # Number of lowest scores to consider\n",
        "k_lowest_similarity_means = []\n",
        "for i in range(n_curves):\n",
        "    pairwise_scores = np.delete(similarity_matrix[i], i)  # Exclude diagonal\n",
        "    k_lowest_scores = np.sort(pairwise_scores)[:k]  # Select k smallest scores\n",
        "    k_lowest_mean = np.mean(k_lowest_scores)  # Compute mean of the k lowest scores\n",
        "    k_lowest_similarity_means.append(k_lowest_mean)\n",
        "\n",
        "least_synchronized_curve = np.argmin(k_lowest_similarity_means)\n",
        "\n",
        "# Output results\n",
        "print(\"Pairwise Similarity Matrix:\")\n",
        "print(similarity_matrix)\n",
        "print(f\"\\nMean of {k} Lowest Similarity Scores (Lower is Worse):\")\n",
        "for i, score in enumerate(k_lowest_similarity_means):\n",
        "    print(f\"Curve {i + 1}: {score:.4f}\")\n",
        "print(f\"\\nCurve needing most adjustment: {least_synchronized_curve + 1}\")"
      ],
      "metadata": {
        "colab": {
          "base_uri": "https://localhost:8080/"
        },
        "id": "57NGCTjN3cFd",
        "outputId": "86ad48dd-2294-4a64-e230-27f67beea6a9"
      },
      "execution_count": null,
      "outputs": [
        {
          "output_type": "stream",
          "name": "stdout",
          "text": [
            "Pairwise Similarity Matrix:\n",
            "[[1.         0.90398899 0.40409148 1.        ]\n",
            " [0.90398899 1.         0.31506177 0.90398899]\n",
            " [0.40409148 0.31506177 1.         0.40409148]\n",
            " [1.         0.90398899 0.40409148 1.        ]]\n",
            "\n",
            "Mean of 2 Lowest Similarity Scores (Lower is Worse):\n",
            "Curve 1: 0.6540\n",
            "Curve 2: 0.6095\n",
            "Curve 3: 0.3596\n",
            "Curve 4: 0.6540\n",
            "\n",
            "Curve needing most adjustment: 3\n"
          ]
        }
      ]
    }
  ],
  "metadata": {
    "colab": {
      "provenance": []
    },
    "kernelspec": {
      "display_name": "Python 3",
      "name": "python3"
    },
    "language_info": {
      "name": "python"
    }
  },
  "nbformat": 4,
  "nbformat_minor": 0
}